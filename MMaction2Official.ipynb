{
 "cells": [
  {
   "cell_type": "code",
   "execution_count": 1,
   "id": "cbb90dbf",
   "metadata": {},
   "outputs": [],
   "source": [
    "import torch\n",
    "from collections import OrderedDict"
   ]
  },
  {
   "cell_type": "code",
   "execution_count": 2,
   "id": "72660ce8",
   "metadata": {
    "scrolled": true
   },
   "outputs": [],
   "source": [
    "origin = torch.load('/local_ssd3/jeom/CLIP_checkpoints/k400_vitl14_32f_dec4x1024.pth', map_location='cpu')\n",
    "mmaction = torch.load('/local_ssd3/jeom/mmaction2/work_dirs/EVL_kinetics400_RandAugment/best_top1_acc_epoch_9.pth', map_location='cpu')"
   ]
  },
  {
   "cell_type": "code",
   "execution_count": 3,
   "id": "e5a110ce",
   "metadata": {
    "scrolled": true
   },
   "outputs": [],
   "source": [
    "output_dict = {}\n",
    "output_dict['model'] = OrderedDict()\n",
    "for key, val in mmaction['state_dict'].items():\n",
    "    if 'backbone' in key:\n",
    "        key = key.replace('backbone.', 'module.')\n",
    "    if key.startswith('cls_head'):\n",
    "        key = key.replace('cls_head.proj.', 'module.proj.')\n",
    "    output_dict['model'][key] = val\n",
    "\n",
    "# final_dict = {}\n",
    "# final_dict['model'] = OrderedDict()\n",
    "# for key, val in output_dict['model'].items():\n",
    "#     if 'proj' in key:\n",
    "#         key = key.replace('module.proj.', 'proj.')\n",
    "#     final_dict['model'][key] = val"
   ]
  },
  {
   "cell_type": "code",
   "execution_count": 4,
   "id": "0571a253",
   "metadata": {},
   "outputs": [],
   "source": [
    "for out_key, ori_key in zip(output_dict['model'].keys(), origin['model'].keys()):\n",
    "    if out_key != ori_key:\n",
    "        print('origin:', ori_key)\n",
    "        print('output:', out_key)"
   ]
  },
  {
   "cell_type": "code",
   "execution_count": 5,
   "id": "63a3abc6",
   "metadata": {},
   "outputs": [],
   "source": [
    "torch.save(output_dict, '/local_ssd3/jeom/CLIP_checkpoints/randaug.pth')"
   ]
  },
  {
   "cell_type": "code",
   "execution_count": null,
   "id": "da965d79",
   "metadata": {},
   "outputs": [],
   "source": []
  }
 ],
 "metadata": {
  "kernelspec": {
   "display_name": "Python 3 (ipykernel)",
   "language": "python",
   "name": "python3"
  },
  "language_info": {
   "codemirror_mode": {
    "name": "ipython",
    "version": 3
   },
   "file_extension": ".py",
   "mimetype": "text/x-python",
   "name": "python",
   "nbconvert_exporter": "python",
   "pygments_lexer": "ipython3",
   "version": "3.8.13"
  }
 },
 "nbformat": 4,
 "nbformat_minor": 5
}
